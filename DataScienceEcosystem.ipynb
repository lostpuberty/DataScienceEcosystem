{
 "cells": [
  {
   "cell_type": "markdown",
   "id": "248c39f7-3473-48f0-a272-cdc76b266a4d",
   "metadata": {},
   "source": [
    "# Data Sciene Tools and Ecosytem "
   ]
  },
  {
   "cell_type": "markdown",
   "id": "1e46dc51-4278-4287-a7e5-a428558e74b7",
   "metadata": {},
   "source": [
    "### In this notebook, Data Science Tools and Ecosystem are summarised"
   ]
  },
  {
   "cell_type": "markdown",
   "id": "931640bd-95b6-4a3e-b5fa-098601d0ffed",
   "metadata": {},
   "source": [
    "#### __Objectives:__ \n",
    "- Commonly Used Libraries used by Data Scientists\n",
    "- Arithmetic expressions in Python\n",
    "- Data Science tools\n",
    "- Unordered and ordered lists "
   ]
  },
  {
   "cell_type": "markdown",
   "id": "52e953c5-4566-4d35-a756-adb3ca4f8a67",
   "metadata": {},
   "source": [
    "#### Some of the popular languages that Data Scientists use are:\n",
    "1. Python\n",
    "2. SQL\n",
    "3. R\n"
   ]
  },
  {
   "cell_type": "markdown",
   "id": "41de66fc-b71a-41f0-b31f-e7a5d2618c26",
   "metadata": {},
   "source": [
    "#### Some of the commonly used libraries used by Data Scientists include:\n",
    "1. Pandas\n",
    "2. Matplotlib\n",
    "3. Numpy"
   ]
  },
  {
   "cell_type": "markdown",
   "id": "03a4b0d2-1058-47ab-ab83-a55caf9479d4",
   "metadata": {},
   "source": [
    "| Data Science Tools |\n",
    "|--------------------|\n",
    "| Git |\n",
    "| Apache |\n",
    "| Visual Studio Code |"
   ]
  },
  {
   "cell_type": "markdown",
   "id": "40117c2f-7e6e-4bca-aa23-89ea0fdc53e5",
   "metadata": {},
   "source": [
    "### Below are a few examples of evaluating arithmetic expressions in Python "
   ]
  },
  {
   "cell_type": "code",
   "execution_count": 11,
   "id": "a880d353-bacf-421a-be45-d86af10a87be",
   "metadata": {},
   "outputs": [
    {
     "data": {
      "text/plain": [
       "17"
      ]
     },
     "execution_count": 11,
     "metadata": {},
     "output_type": "execute_result"
    }
   ],
   "source": [
    "### This a simple arithmetic expression to mutiply then add integers\n",
    "(3*4)+5"
   ]
  },
  {
   "cell_type": "code",
   "execution_count": 13,
   "id": "57c6662d-e769-4f49-9834-1fba43ebc55a",
   "metadata": {},
   "outputs": [
    {
     "data": {
      "text/plain": [
       "3.3333333333333335"
      ]
     },
     "execution_count": 13,
     "metadata": {},
     "output_type": "execute_result"
    }
   ],
   "source": [
    "### This will convert 200 minutes to hours by diving by 60\n",
    "200/60"
   ]
  },
  {
   "cell_type": "markdown",
   "id": "43d41083-cae9-42e7-8dc7-a1573546f3e5",
   "metadata": {},
   "source": [
    "## Author\n",
    "Lost Puberty"
   ]
  },
  {
   "cell_type": "code",
   "execution_count": null,
   "id": "8af72e58-6b65-47c4-bac1-b91d3c85e9d2",
   "metadata": {},
   "outputs": [],
   "source": []
  }
 ],
 "metadata": {
  "kernelspec": {
   "display_name": "Python [conda env:base] *",
   "language": "python",
   "name": "conda-base-py"
  },
  "language_info": {
   "codemirror_mode": {
    "name": "ipython",
    "version": 3
   },
   "file_extension": ".py",
   "mimetype": "text/x-python",
   "name": "python",
   "nbconvert_exporter": "python",
   "pygments_lexer": "ipython3",
   "version": "3.12.7"
  }
 },
 "nbformat": 4,
 "nbformat_minor": 5
}
